{
 "cells": [
  {
   "cell_type": "markdown",
   "metadata": {},
   "source": [
    "Goal is to find the regression of price on model_year for every car model in the list, using Support Vector Regression to as the regression algorithm. I am using GridSearchCV to find the best SVR parameters."
   ]
  },
  {
   "cell_type": "code",
   "execution_count": null,
   "metadata": {},
   "outputs": [],
   "source": [
    "import pandas as pd\n",
    "import numpy as np\n",
    "import matplotlib.pyplot as plt\n",
    "from sklearn.model_selection import train_test_split\n",
    "from sklearn.model_selection import GridSearchCV\n",
    "from sklearn.svm import SVR\n",
    "pd.set_option('display.max_rows', 500)"
   ]
  },
  {
   "cell_type": "code",
   "execution_count": null,
   "metadata": {},
   "outputs": [],
   "source": [
    "#creating dataframe of all cars\n",
    "\n",
    "both = pd.read_csv('/Users/avacheevers/Documents/Cars/both.csv')\n",
    "sources = []\n",
    "for car in both['Car']:\n",
    "    file = '/Users/avacheevers/Documents/Cars/3_cleaned_df_' + car + '.csv'\n",
    "    df = pd.read_csv(file)\n",
    "    if car == 'Volkswagen Beetle':\n",
    "        df1 = pd.read_csv('/Users/avacheevers/Documents/Cars/3_cleaned_df_new_beetle.csv')\n",
    "        df = pd.concat([df, df1], ignore_index=True)\n",
    "    df['car'] = car\n",
    "    sources.append(df)\n",
    "    \n",
    "df = pd.concat(sources, ignore_index=True)\n",
    "df = df[['car','make_model', 'model_year','trim', 'price', 'mileage']]"
   ]
  },
  {
   "cell_type": "code",
   "execution_count": null,
   "metadata": {},
   "outputs": [],
   "source": [
    "# grid search parameters\n",
    "clf = GridSearchCV(\n",
    "        estimator=SVR(kernel='poly'),\n",
    "        param_grid={\n",
    "            'degree': [1,2,3,4],\n",
    "            'C': [0.01, 0.1, 1, 100, 1000, 10000],\n",
    "            'epsilon': [0.0001, 0.0005, 0.001, 0.005, 0.01, 0.05, 0.1, 0.5, 1, 5, 10],\n",
    "            'gamma': [0.0001, 0.001, 0.005, 0.1, 1, 3, 5]\n",
    "        },\n",
    "        cv=5, scoring='neg_mean_squared_error', verbose=0, n_jobs=-1)"
   ]
  },
  {
   "cell_type": "code",
   "execution_count": null,
   "metadata": {},
   "outputs": [],
   "source": [
    "# looping through all car models\n",
    "for car in df.car.unique():\n",
    "    df_sub = df[df['car'] == car]\n",
    "    df_sub = df_sub.dropna()\n",
    "    df_sub = df_sub.sort_values(by=['model_year'])\n",
    "    \n",
    "    X = df_sub['model_year']\n",
    "    y = df_sub['price']\n",
    "\n",
    "    X = np.array(X).reshape(-1,1)\n",
    "    \n",
    "    \n",
    "    grid_result = clf.fit(X, y)\n",
    "    best_params = grid_result.best_params_\n",
    "    best_svr = SVR(kernel='rbf', C=best_params[\"C\"], epsilon=best_params[\"epsilon\"], gamma=best_params[\"gamma\"],\n",
    "                   coef0=0.1, shrinking=True,\n",
    "                   tol=0.001, cache_size=200, verbose=False, max_iter=-1).fit(X,y)\n",
    "    \n",
    "    fit[car] = best_svr\n",
    "    \n",
    "    yfit = best_svr.predict(X)\n",
    "    \n",
    "    plt.scatter(X, y, s=5, color=\"blue\", label=\"original\")\n",
    "    plt.plot(X, yfit, lw=2, color=\"red\", label=\"fitted\")\n",
    "    plt.legend()\n",
    "    plt.title(car)\n",
    "    plt.savefig('/Users/avacheevers/Documents/Cars/5_'+car+'.png')\n",
    "    plt.show()\n",
    "    \n",
    "    arr = np.array(range(1960,2021))\n",
    "    arr = np.array(arr).reshape(-1,1)\n",
    "    yfit = best_svr.predict(arr)\n",
    "    min_index_row = np.argmin(yfit, axis=0)\n",
    "    min_price[car] = arr[min_index_row]\n",
    "    \n",
    "    print(car, 'completed')"
   ]
  },
  {
   "cell_type": "code",
   "execution_count": null,
   "metadata": {},
   "outputs": [],
   "source": []
  }
 ],
 "metadata": {
  "kernelspec": {
   "display_name": "Python 3",
   "language": "python",
   "name": "python3"
  },
  "language_info": {
   "codemirror_mode": {
    "name": "ipython",
    "version": 3
   },
   "file_extension": ".py",
   "mimetype": "text/x-python",
   "name": "python",
   "nbconvert_exporter": "python",
   "pygments_lexer": "ipython3",
   "version": "3.7.6"
  }
 },
 "nbformat": 4,
 "nbformat_minor": 4
}
