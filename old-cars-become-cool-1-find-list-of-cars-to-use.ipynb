{
 "cells": [
  {
   "cell_type": "markdown",
   "metadata": {},
   "source": [
    "Create a list of cars that have been produced in at least one of the 1960s,70s,80s,90s AND at least one of the 2000s,10s,20. These cars have existed for long enough to have had the chance to become 'classic' "
   ]
  },
  {
   "cell_type": "code",
   "execution_count": 1,
   "metadata": {},
   "outputs": [],
   "source": [
    "import requests\n",
    "import time\n",
    "import pandas as pd\n",
    "import numpy as np\n",
    "from bs4 import BeautifulSoup\n",
    "pd.set_option('display.max_rows', 500)"
   ]
  },
  {
   "cell_type": "code",
   "execution_count": 64,
   "metadata": {},
   "outputs": [],
   "source": [
    "### RECENT DECADE URLS ###\n",
    "_20_1 = 'https://en.wikipedia.org/w/index.php?title=Category:2020s_cars&pageuntil=Mazda6#mw-pages'\n",
    "_20_2 = 'https://en.wikipedia.org/w/index.php?title=Category:2020s_cars&pagefrom=Mazda6#mw-pages'\n",
    "\n",
    "_10_1 = 'https://en.wikipedia.org/wiki/Category:2010s_cars'\n",
    "_10_2 = 'https://en.wikipedia.org/w/index.php?title=Category:2010s_cars&pagefrom=Chrysler+200#mw-pages'\n",
    "_10_3 = 'https://en.wikipedia.org/w/index.php?title=Category:2010s_cars&pagefrom=GMC+Terrain#mw-pages'\n",
    "_10_4 = 'https://en.wikipedia.org/w/index.php?title=Category:2010s_cars&pagefrom=Kia+KX3#mw-pages'\n",
    "_10_5 = 'https://en.wikipedia.org/w/index.php?title=Category:2010s_cars&pagefrom=Nissan+Elgrand#mw-pages'\n",
    "_10_6 = 'https://en.wikipedia.org/w/index.php?title=Category:2010s_cars&pagefrom=Suzuki+Mehran%0ASuzuki+Mehran#mw-pages'\n",
    "\n",
    "_00_1 = 'https://en.wikipedia.org/wiki/Category:2000s_cars'\n",
    "_00_2 = 'https://en.wikipedia.org/w/index.php?title=Category:2000s_cars&pagefrom=FAW+Senya#mw-pages'\n",
    "_00_3 = 'https://en.wikipedia.org/w/index.php?title=Category:2000s_cars&pagefrom=Hyundai+Starex#mw-pages'\n",
    "_00_4 = 'https://en.wikipedia.org/w/index.php?title=Category:2000s_cars&pagefrom=Mosler+Twinstar%0AMosler+TwinStar#mw-pages'\n",
    "_00_5 = 'https://en.wikipedia.org/w/index.php?title=Category:2000s_cars&pagefrom=Subaru+Legacy+%28third+generation%29#mw-pages'\n",
    "\n",
    "list_20 = [_20_1, _20_2]\n",
    "list_10 = [_10_1, _10_2, _10_3, _10_4, _10_5, _10_6]\n",
    "list_00 = [_00_1, _00_2, _00_3, _00_4, _00_5]\n"
   ]
  },
  {
   "cell_type": "code",
   "execution_count": 66,
   "metadata": {},
   "outputs": [],
   "source": [
    "### OLDER DECADE URLS ###\n",
    "_60_1 = 'https://en.wikipedia.org/wiki/Category:1960s_cars'\n",
    "_60_2 = 'https://en.wikipedia.org/w/index.php?title=Category:1960s_cars&pagefrom=Ford+Prefect#mw-pages'\n",
    "_60_3 = 'https://en.wikipedia.org/w/index.php?title=Category:1960s_cars&pagefrom=Shelby+Daytona#mw-pages'\n",
    "\n",
    "list_60 = [_60_1, _60_2, _60_3]\n",
    "\n",
    "_70_1 = 'https://en.wikipedia.org/wiki/Category:1970s_cars'\n",
    "_70_2 = 'https://en.wikipedia.org/w/index.php?title=Category:1970s_cars&pagefrom=Gmc+Sprint+++Caballero%0AGMC+Sprint+%2F+Caballero#mw-pages'\n",
    "_70_3 = 'https://en.wikipedia.org/w/index.php?title=Category:1970s_cars&pagefrom=Reliant+Rebel#mw-pages'\n",
    "\n",
    "list_70 = [_70_1, _70_2, _70_3]\n",
    "\n",
    "_80_1 = 'https://en.wikipedia.org/wiki/Category:1980s_cars'\n",
    "_80_2 = 'https://en.wikipedia.org/w/index.php?title=Category:1980s_cars&pagefrom=Ford+Sierra#mw-pages'\n",
    "_80_3 = 'https://en.wikipedia.org/w/index.php?title=Category:1980s_cars&pagefrom=Pontiac+6000#mw-pages'\n",
    "\n",
    "list_80 = [_80_1, _80_2, _80_3]\n",
    "\n",
    "_90_1 = 'https://en.wikipedia.org/wiki/Category:1990s_cars'\n",
    "_90_2 = 'https://en.wikipedia.org/w/index.php?title=Category:1990s_cars&pagefrom=Ford+Festiva#mw-pages'\n",
    "_90_3 = 'https://en.wikipedia.org/w/index.php?title=Category:1990s_cars&pagefrom=Mini#mw-pages'\n",
    "_90_4 = 'https://en.wikipedia.org/w/index.php?title=Category:1990s_cars&pagefrom=Suzuki+Khyber#mw-pages'\n",
    "\n",
    "list_90 = [_90_1, _90_2, _90_3, _90_4]\n"
   ]
  },
  {
   "cell_type": "code",
   "execution_count": null,
   "metadata": {},
   "outputs": [],
   "source": [
    "# function for scraping car names for an inputted decade\n",
    "def car_finder(URL_list):\n",
    "    cars_list = []\n",
    "    for item in URL_list:\n",
    "        URL = item\n",
    "        page = requests.get(URL)\n",
    "        soup = BeautifulSoup(page.content, 'html.parser')\n",
    "        main = soup.find('div', id = 'mw-pages')\n",
    "        possible_cars = main.find('div', class_ = 'mw-category')\n",
    "        possible_cars = possible_cars.text.split('\\n')\n",
    "        for car in possible_cars:\n",
    "            if len(car) > 1:\n",
    "                cars_list.append(car)\n",
    "    return cars_list"
   ]
  },
  {
   "cell_type": "code",
   "execution_count": 69,
   "metadata": {},
   "outputs": [],
   "source": [
    "# running functions on each decade\n",
    "_20s = car_finder(list_20)\n",
    "_10s = car_finder(list_10)\n",
    "_00s = car_finder(list_00)\n",
    "recent_decades = [_20s, _10s, _00s]"
   ]
  },
  {
   "cell_type": "code",
   "execution_count": 70,
   "metadata": {},
   "outputs": [],
   "source": [
    "_60s = car_finder(list_60)\n",
    "_70s = car_finder(list_70)\n",
    "_80s = car_finder(list_80)\n",
    "_90s = car_finder(list_90)\n",
    "old_decades = [_60s, _70s, _80s, _90s]"
   ]
  },
  {
   "cell_type": "code",
   "execution_count": 72,
   "metadata": {},
   "outputs": [],
   "source": [
    "recent_cars = []\n",
    "for decade in recent_decades:\n",
    "    for car in decade:\n",
    "        if car not in recent_cars:\n",
    "            recent_cars.append(car)"
   ]
  },
  {
   "cell_type": "code",
   "execution_count": 74,
   "metadata": {},
   "outputs": [],
   "source": [
    "old_cars = []\n",
    "for decade in old_decades:\n",
    "    for car in decade:\n",
    "        if car not in old_cars:\n",
    "            old_cars.append(car)"
   ]
  },
  {
   "cell_type": "code",
   "execution_count": 75,
   "metadata": {},
   "outputs": [],
   "source": [
    "# creating dataframe of cars to use in analysis\n",
    "both = []\n",
    "for car in recent_cars:\n",
    "    if car in old_cars:\n",
    "        both.append(car) \n",
    "        \n",
    "both = pd.DataFrame(both)\n",
    "both.to_csv('/Users/avacheevers/Documents/Cars/both.csv')"
   ]
  }
 ],
 "metadata": {
  "kernelspec": {
   "display_name": "Python 3",
   "language": "python",
   "name": "python3"
  },
  "language_info": {
   "codemirror_mode": {
    "name": "ipython",
    "version": 3
   },
   "file_extension": ".py",
   "mimetype": "text/x-python",
   "name": "python",
   "nbconvert_exporter": "python",
   "pygments_lexer": "ipython3",
   "version": "3.7.6"
  }
 },
 "nbformat": 4,
 "nbformat_minor": 4
}
